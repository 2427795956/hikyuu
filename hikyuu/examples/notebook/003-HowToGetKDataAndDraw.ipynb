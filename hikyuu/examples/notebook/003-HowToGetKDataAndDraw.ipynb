{
 "cells": [
  {
   "cell_type": "code",
   "execution_count": 1,
   "metadata": {},
   "outputs": [
    {
     "name": "stdout",
     "output_type": "stream",
     "text": [
      "std::cout are redirected to python::stdout\n",
      "std::cerr are redirected to python::stderr\n",
      "2020-07-02 00:24:54.320 [HKU-I] - Loading market information... [hku::BaseInfoDriver::loadBaseInfo]\n",
      "2020-07-02 00:24:54.325 [HKU-I] - Loading stock type information... [hku::BaseInfoDriver::loadBaseInfo]\n",
      "2020-07-02 00:24:54.328 [HKU-I] - Loading stock information... [hku::BaseInfoDriver::loadBaseInfo]\n",
      "2020-07-02 00:25:00.382 [HKU-I] - Loading KData... [hku::StockManager::init]\n",
      "2020-07-02 00:25:00.400 [HKU-I] - Preloading all day kdata to buffer! [hku::StockManager::setKDataDriver]\n",
      "2020-07-02 00:25:22.245 [HKU-I] - 21.86s Loaded Data. [hku::StockManager::init]\n",
      "Wall time: 29.8 s\n"
     ]
    }
   ],
   "source": [
    "%matplotlib inline\n",
    "%time from hikyuu import *\n",
    "#use_draw_engine('echarts') #use_draw_engine('matplotlib')  #默认为'matplotlib'绘图"
   ]
  },
  {
   "cell_type": "markdown",
   "metadata": {},
   "source": [
    "1 简单示例\n",
    "========\n",
    "\n",
    "查询并绘制上证指数最后100个交易日的K线数据"
   ]
  },
  {
   "cell_type": "code",
   "execution_count": 2,
   "metadata": {},
   "outputs": [
    {
     "data": {
      "image/png": "[encoded data removed]",
      "text/plain": [
       "<Figure size 576x432 with 1 Axes>"
      ]
     },
     "metadata": {
      "needs_background": "light"
     },
     "output_type": "display_data"
    }
   ],
   "source": [
    "s = sm['sh000001']\n",
    "k = s.getKData(Query(-100))  \n",
    "k.plot()"
   ]
  },
  {
   "cell_type": "markdown",
   "metadata": {},
   "source": [
    "2 查看与遍历K线数据\n",
    "==========\n",
    "\n",
    "K线数据可以象list一样遍历和查看具体值"
   ]
  },
  {
   "cell_type": "code",
   "execution_count": 3,
   "metadata": {},
   "outputs": [
    {
     "name": "stdout",
     "output_type": "stream",
     "text": [
      "----------------------------------------------------------------\n",
      "datetime             open     high    low    close    amo    vol\n",
      "----------------------------------------------------------------\n",
      "2019-08-22 00:00:00  2887.66  2888.5  2867.55  2883.44  1.69662e+07  1.49206e+06\n",
      "2019-08-23 00:00:00  2885.15  2902.46  2878.74  2897.43  1.92567e+07  1.59157e+06\n",
      "2019-08-26 00:00:00  2851.02  2870.49  2849.24  2863.57  1.91037e+07  1.69895e+06\n",
      "2019-08-27 00:00:00  2879.52  2919.64  2879.41  2902.19  2.31e+07  2.08142e+06\n",
      "2019-08-28 00:00:00  2901.63  2905.44  2887.01  2893.76  2.01805e+07  1.83098e+06\n",
      "2019-08-29 00:00:00  2896  2898.6  2878.59  2890.92  1.96333e+07  1.78613e+06\n",
      "2019-08-30 00:00:00  2907.38  2914.58  2874.1  2886.24  2.24751e+07  1.9396e+06\n",
      "2019-09-02 00:00:00  2886.94  2928.48  2883.68  2924.11  2.26044e+07  2.02787e+06\n",
      "2019-09-03 00:00:00  2925.94  2930.15  2915.2  2930.15  2.2507e+07  1.89001e+06\n",
      "2019-09-04 00:00:00  2927.75  2957.41  2925.88  2957.41  2.51213e+07  2.25496e+06\n",
      "...\n",
      "2020-01-06 00:00:00  3070.91  3107.2  3065.31  3083.41  3.31183e+07  3.12576e+06\n",
      "2020-01-07 00:00:00  3085.49  3105.45  3084.33  3104.8  2.88159e+07  2.76583e+06\n",
      "2020-01-08 00:00:00  3094.24  3094.24  3059.13  3066.89  3.06517e+07  2.97873e+06\n",
      "2020-01-09 00:00:00  3082.64  3097.33  3080.13  3094.88  2.71716e+07  2.43436e+06\n",
      "2020-01-10 00:00:00  3102.29  3105.22  3081.4  3092.29  2.41556e+07  2.10442e+06\n",
      "2020-01-13 00:00:00  3091.49  3115.57  3075.38  3115.57  2.58524e+07  2.10621e+06\n",
      "2020-01-14 00:00:00  3120.67  3127.17  3105.61  3106.82  2.71542e+07  2.29974e+06\n",
      "2020-01-15 00:00:00  3103.17  3107.94  3082.04  3090.04  2.32913e+07  2.02313e+06\n",
      "2020-01-16 00:00:00  3095.73  3096.37  3070.88  3074.08  2.36843e+07  2.03375e+06\n",
      "2020-01-17 00:00:00  3081.46  3091.95  3067.25  3075.5  2.42273e+07  1.90304e+06\n",
      "\n"
     ]
    }
   ],
   "source": [
    "s = sm['sh000001']\n",
    "k = s.getKData(Query(-100))  \n",
    "print(k)"
   ]
  },
  {
   "cell_type": "code",
   "execution_count": 4,
   "metadata": {},
   "outputs": [
    {
     "ename": "ValueError",
     "evalue": "Can't convert this python object to Datetime!",
     "output_type": "error",
     "traceback": [
      "\u001b[1;31m---------------------------------------------------------------------------\u001b[0m",
      "\u001b[1;31mValueError\u001b[0m                                Traceback (most recent call last)",
      "\u001b[1;32m<ipython-input-4-18b586476fe9>\u001b[0m in \u001b[0;36m<module>\u001b[1;34m\u001b[0m\n\u001b[0;32m      1\u001b[0m \u001b[1;31m#查看最后5个交易日的K线值\u001b[0m\u001b[1;33m\u001b[0m\u001b[1;33m\u001b[0m\u001b[1;33m\u001b[0m\u001b[0m\n\u001b[1;32m----> 2\u001b[1;33m \u001b[0mk\u001b[0m\u001b[1;33m[\u001b[0m\u001b[1;33m-\u001b[0m\u001b[1;36m5\u001b[0m\u001b[1;33m:\u001b[0m\u001b[1;33m]\u001b[0m\u001b[1;33m\u001b[0m\u001b[1;33m\u001b[0m\u001b[0m\n\u001b[0m",
      "\u001b[1;31mValueError\u001b[0m: Can't convert this python object to Datetime!"
     ]
    }
   ],
   "source": [
    "#查看最后5个交易日的K线值\n",
    "k[-5:]"
   ]
  },
  {
   "cell_type": "code",
   "execution_count": null,
   "metadata": {},
   "outputs": [],
   "source": [
    "#遍历查询最大收盘价\n",
    "max_close = 0\n",
    "for v in k:\n",
    "    if v.closePrice > max_close:\n",
    "        max_close = v.closePrice\n",
    "print(max_close)"
   ]
  },
  {
   "cell_type": "markdown",
   "metadata": {},
   "source": [
    "K线数据（KData）其实是有KRecord组成的数组，KRecord的属性如下："
   ]
  },
  {
   "cell_type": "code",
   "execution_count": null,
   "metadata": {},
   "outputs": [],
   "source": [
    "print(\"日期 - \", k[0].datetime)\n",
    "print(\"开盘价 - \", k[0].openPrice)\n",
    "print(\"最高价 - \", k[0].highPrice)\n",
    "print(\"最低价 - \", k[0].lowPrice)\n",
    "print(\"收盘价 - \", k[0].closePrice)\n",
    "print(\"成交金额 - \", k[0].transAmount)\n",
    "print(\"成交量 - \", k[0].transCount)"
   ]
  },
  {
   "cell_type": "markdown",
   "metadata": {},
   "source": [
    "3 Query详解\n",
    "========\n",
    "\n",
    "获取Stock的K线数据，需要指定查询条件，可按索引和日期两种方式查询。\n",
    "\n",
    "构建按索引方式查询条件：Query(start=0, end=None , kType=Query.DAY, recoverType=Query.NO_RECOVER)\n",
    "\n",
    "构建按日期方式查询条件：QueryByDate(start=None, end=None, kType=Query.DAY, recoverType=Query.NO_RECOVER)\n",
    "\n",
    "其中，索引遵循Python的惯用方式，即以0位起始，以[start, end)的方式查询，支持负数表示倒叙; 按日期查询同样遵循[start, end)惯例。\n",
    "\n",
    "kType: 为K线数据类型（日线、分钟线、周线等）:\n",
    "\n",
    "    - Query.DAY      日线\n",
    "    - Query.WEEK     周线\n",
    "    - Query.MONTH    月线\n",
    "    - Query.QUARTER  季线\n",
    "    - Query.HALFYEAR 半年线\n",
    "    - Query.YEAR     年线\n",
    "    - Query.MIN      1分钟线\n",
    "    - Query.MIN5     5分钟线\n",
    "    - Query.MIN15    15分钟线\n",
    "    - Query.MIN30    30分钟线\n",
    "    - Query.MIN60    60分钟线\n",
    "    \n",
    "recoverType：为复权类型（不复权、前向复权、后向复权、等比前向复权、等比后向复权），仅支持日线复权：\n",
    "\n",
    "    - Query.NO_RECOVER     不复权\n",
    "    - Query.FORWARD        前向复权\n",
    "    - Query.BACKWARD       后向复权\n",
    "    - Query.EQUAL_FORWARD  等比前向复权\n",
    "    - Query.EQUAL_BACKWARD 等比后向复权"
   ]
  },
  {
   "cell_type": "markdown",
   "metadata": {},
   "source": [
    "3.1 按索引方式查询K线数据\n",
    "-------------------------"
   ]
  },
  {
   "cell_type": "code",
   "execution_count": null,
   "metadata": {},
   "outputs": [],
   "source": [
    "#查询股票前100个交易日的K线数据\n",
    "k = s.getKData(Query(0, 100))\n",
    "\n",
    "#查询股票最后100个交易日K线数据\n",
    "k = s.getKData(Query(-100))\n",
    "\n",
    "#查询股票第199个交易日到第209个交易日的K线数据\n",
    "k = s.getKData(Query(200, 210))\n",
    "\n",
    "#查询股票倒数第100个交易日至倒数第10个交易日的K线数据\n",
    "k = s.getKData(Query(-100, -10))"
   ]
  },
  {
   "cell_type": "markdown",
   "metadata": {
    "collapsed": true
   },
   "source": [
    "3.2 按日期方式查询K线数据\n",
    "--------------------------\n",
    "\n",
    "按日期查询同样遵循 [start, end) 惯例。\n",
    "\n",
    "日期类型为Hikyuu库中定义的 Datetime，其记录的是“年月日时分”。可使用Python的datetime类型、日期字符串或数字表示法进行构建:\n",
    "\n",
    "- Datetime(datetime.date(2017,1,1))  - 从Python的datetime构建\n",
    "- Datetime('2017-1-1 9:35') - 通过日期字符串构建\n",
    "- Datetime(201701010935) - 通过数字进行构建，数字格式须如“yyyymmddhhmm”（4位年份2位月份2位小时数2位分钟数）"
   ]
  },
  {
   "cell_type": "code",
   "execution_count": null,
   "metadata": {},
   "outputs": [],
   "source": [
    "#查询2017年1月1日至今的日线数据\n",
    "k = s.getKData(QueryByDate(Datetime(201701010000)))\n",
    "\n",
    "#查询2017年1月1日至3月31日日线数据\n",
    "k = s.getKData(QueryByDate(Datetime(201701010000), Datetime(201704010000)))\n",
    "\n",
    "#查询2017年1月5日1分钟线数据\n",
    "k = s.getKData(QueryByDate(Datetime(201701050000), Datetime(201701060000), kType=Query.MIN))\n",
    "k.plot()"
   ]
  },
  {
   "cell_type": "markdown",
   "metadata": {},
   "source": [
    "3.3 查询复权日线\n",
    "----------------"
   ]
  },
  {
   "cell_type": "code",
   "execution_count": null,
   "metadata": {},
   "outputs": [],
   "source": [
    "s = sm['sz000603']\n",
    "\n",
    "#查询股票最后100个交易日K线数据，不复权\n",
    "k = s.getKData(Query(-100))\n",
    "k.plot()"
   ]
  },
  {
   "cell_type": "code",
   "execution_count": null,
   "metadata": {},
   "outputs": [],
   "source": [
    "#查询股票最后100个交易日K线数据，后向复权\n",
    "k = s.getKData(Query(-100, recoverType=Query.BACKWARD))\n",
    "k.plot()"
   ]
  },
  {
   "cell_type": "code",
   "execution_count": null,
   "metadata": {},
   "outputs": [],
   "source": []
  }
 ],
 "metadata": {
  "kernelspec": {
   "display_name": "Python 3",
   "language": "python",
   "name": "python3"
  },
  "language_info": {
   "codemirror_mode": {
    "name": "ipython",
    "version": 3
   },
   "file_extension": ".py",
   "mimetype": "text/x-python",
   "name": "python",
   "nbconvert_exporter": "python",
   "pygments_lexer": "ipython3",
   "version": "3.7.1"
  }
 },
 "nbformat": 4,
 "nbformat_minor": 1
}
