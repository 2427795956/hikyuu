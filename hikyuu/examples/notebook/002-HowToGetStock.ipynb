{
 "cells": [
  {
   "cell_type": "code",
   "execution_count": 1,
   "metadata": {},
   "outputs": [
    {
     "name": "stdout",
     "output_type": "stream",
     "text": [
      "std::cout are redirected to python::stdout\n",
      "std::cerr are redirected to python::stderr\n",
      "2020-07-02 00:23:44.030 [HKU-I] - Loading market information... [hku::BaseInfoDriver::loadBaseInfo]\n",
      "2020-07-02 00:23:44.036 [HKU-I] - Loading stock type information... [hku::BaseInfoDriver::loadBaseInfo]\n",
      "2020-07-02 00:23:44.038 [HKU-I] - Loading stock information... [hku::BaseInfoDriver::loadBaseInfo]\n",
      "2020-07-02 00:23:50.141 [HKU-I] - Loading KData... [hku::StockManager::init]\n",
      "2020-07-02 00:23:50.159 [HKU-I] - Preloading all day kdata to buffer! [hku::StockManager::setKDataDriver]\n",
      "2020-07-02 00:24:12.059 [HKU-I] - 21.92s Loaded Data. [hku::StockManager::init]\n",
      "Wall time: 29.8 s\n"
     ]
    }
   ],
   "source": [
    "%matplotlib inline\n",
    "%time from hikyuu import *"
   ]
  },
  {
   "cell_type": "markdown",
   "metadata": {},
   "source": [
    "1 全局获取股票对象\n",
    "==========\n",
    "\n",
    "1.1 获取股票对象\n",
    "-----------------\n",
    "\n",
    "通过全局管理对象 sm，或使用函数 getStock。股票标识格式“市场标识+股票代码”，市场标识：沪市sh，深市sz。"
   ]
  },
  {
   "cell_type": "code",
   "execution_count": 2,
   "metadata": {},
   "outputs": [
    {
     "name": "stdout",
     "output_type": "stream",
     "text": [
      "Stock(SH, 000001, 上证指数, 指数, 1, 1990-12-19 00:00:00, +infinity)\n"
     ]
    }
   ],
   "source": [
    "#s = getStock('sh000001')\n",
    "s = sm['sh000001']\n",
    "print(s)"
   ]
  },
  {
   "cell_type": "markdown",
   "metadata": {},
   "source": [
    "1.2 遍历所有股票\n",
    "-----------------"
   ]
  },
  {
   "cell_type": "code",
   "execution_count": 3,
   "metadata": {
    "scrolled": false
   },
   "outputs": [
    {
     "name": "stdout",
     "output_type": "stream",
     "text": [
      "全部数量: 5681\n"
     ]
    },
    {
     "data": {
      "text/plain": [
       "5681"
      ]
     },
     "execution_count": 3,
     "metadata": {},
     "output_type": "execute_result"
    }
   ],
   "source": [
    "i = 0\n",
    "#遍历所有股票\n",
    "for s in sm:\n",
    "    i += 1\n",
    "    #print(s)\n",
    "print(\"全部数量:\", i)\n",
    "\n",
    "len(sm)"
   ]
  },
  {
   "cell_type": "markdown",
   "metadata": {},
   "source": [
    "2 通过板块（Block）遍历股票对象\n",
    "================\n",
    "\n",
    "2.1 通过 sm.getStock(\"板块分类\", \"板块名称\") 获取相应板块\n",
    "------------------------------------------------------------"
   ]
  },
  {
   "cell_type": "code",
   "execution_count": 4,
   "metadata": {},
   "outputs": [
    {
     "name": "stdout",
     "output_type": "stream",
     "text": [
      "Stock(SH, 600270, 外运发展, A股, 0, 2000-12-28 00:00:00, +infinity)\n"
     ]
    }
   ],
   "source": [
    "blk = sm.getBlock(\"指数板块\", \"上证380\")\n",
    "for s in blk:\n",
    "    if not s.valid:\n",
    "        print(s)"
   ]
  },
  {
   "cell_type": "markdown",
   "metadata": {},
   "source": [
    "2.1 获取自定义板块\n",
    "------------------\n",
    "\n",
    "自定义板块的板块分类固定为 “self”"
   ]
  },
  {
   "cell_type": "code",
   "execution_count": 5,
   "metadata": {},
   "outputs": [
    {
     "name": "stdout",
     "output_type": "stream",
     "text": [
      "Stock(SZ, 002685, 华东重机, A股, 1, 2012-06-12 00:00:00, +infinity)\n",
      "Stock(SZ, 002339, 积成电子, A股, 1, 2010-01-22 00:00:00, +infinity)\n",
      "Stock(SZ, 000728, 国元证券, A股, 1, 1997-05-22 00:00:00, +infinity)\n",
      "Stock(SZ, 000958, 东方能源, A股, 1, 1999-12-23 00:00:00, +infinity)\n",
      "Stock(SZ, 000001, 平安银行, A股, 1, 1991-01-02 00:00:00, +infinity)\n",
      "Stock(SH, 600601, 方正科技, A股, 1, 1990-12-19 00:00:00, +infinity)\n",
      "Stock(SH, 600050, 中国联通, A股, 1, 2002-10-09 00:00:00, +infinity)\n",
      "Stock(SH, 601018, 宁波港, A股, 1, 2010-09-28 00:00:00, +infinity)\n",
      "Stock(SH, 601098, 中南传媒, A股, 1, 2010-10-28 00:00:00, +infinity)\n"
     ]
    }
   ],
   "source": [
    "blk = sm.getBlock(\"self\", \"1\")\n",
    "for s in blk:\n",
    "    print(s)"
   ]
  },
  {
   "cell_type": "markdown",
   "metadata": {},
   "source": [
    "2.2 板块信息的配置\n",
    "-------------------\n",
    "\n",
    "板块信息在数据存放路径中 “block” 子目录下，目前采用的是钱龙的格式，你也可从钱龙相应的目录下拷贝最新的板块配置信息。\n",
    "\n",
    "![板块配置](images/002_01_block_config.png)"
   ]
  },
  {
   "cell_type": "markdown",
   "metadata": {},
   "source": [
    "3 查看权息信息\n",
    "======="
   ]
  },
  {
   "cell_type": "code",
   "execution_count": 6,
   "metadata": {},
   "outputs": [
    {
     "name": "stdout",
     "output_type": "stream",
     "text": [
      "StockWeight(1991-04-03 00:00:00, 0.0000, 0.0000,0.0000,0.0000,0.0000,150.0000,68.0000)\n",
      "StockWeight(1993-05-24 00:00:00, 3.5000, 1.0000,16.0000,3.0000,5.0000,26941.0000,17912.0000)\n",
      "StockWeight(1994-07-11 00:00:00, 3.0000, 1.0000,5.0000,5.0000,2.0000,43106.0000,28659.0000)\n",
      "StockWeight(1994-09-02 00:00:00, 0.0000, 0.0000,0.0000,0.0000,0.0000,43106.0000,29707.0000)\n",
      "StockWeight(1995-09-25 00:00:00, 2.0000, 0.0000,0.0000,3.0000,0.0000,51728.0000,35721.0000)\n",
      "StockWeight(1996-05-27 00:00:00, 5.0000, 0.0000,0.0000,0.0000,5.0000,103456.0000,71393.0000)\n",
      "StockWeight(1997-08-25 00:00:00, 5.0000, 0.0000,0.0000,2.0000,0.0000,155184.0000,107163.0000)\n",
      "StockWeight(1999-10-18 00:00:00, 0.0000, 0.0000,0.0000,6.0000,0.0000,155184.0000,107163.0000)\n",
      "StockWeight(2000-11-06 00:00:00, 0.0000, 3.0000,8.0000,0.0000,0.0000,194582.0000,139312.0000)\n",
      "StockWeight(2002-07-23 00:00:00, 0.0000, 0.0000,0.0000,1.5000,0.0000,194582.0000,140936.0000)\n",
      "StockWeight(2003-09-29 00:00:00, 0.0000, 0.0000,0.0000,1.5000,0.0000,194582.0000,140936.0000)\n",
      "StockWeight(2007-06-20 00:00:00, 1.0000, 0.0000,0.0000,0.0000,0.0000,208676.0000,155019.0000)\n",
      "StockWeight(2008-01-21 00:00:00, 0.0000, 0.0000,0.0000,0.0000,0.0000,229341.0000,175682.0000)\n",
      "StockWeight(2008-06-26 00:00:00, 0.0000, 0.0000,0.0000,0.0000,0.0000,229341.0000,204652.0000)\n",
      "StockWeight(2008-06-27 00:00:00, 0.0000, 0.0000,0.0000,0.0000,0.0000,238880.0000,214200.0000)\n",
      "StockWeight(2008-10-31 00:00:00, 3.0000, 0.0000,0.0000,0.3350,0.0000,310543.0000,278461.0000)\n",
      "StockWeight(2009-06-22 00:00:00, 0.0000, 0.0000,0.0000,0.0000,0.0000,310543.0000,292367.0000)\n",
      "StockWeight(2009-10-15 00:00:00, 0.0000, 0.0000,0.0000,0.0000,0.0000,310543.0000,292411.0000)\n",
      "StockWeight(2010-06-28 00:00:00, 0.0000, 0.0000,0.0000,0.0000,0.0000,310543.0000,310537.0000)\n",
      "StockWeight(2010-09-17 00:00:00, 0.0000, 0.0000,0.0000,0.0000,0.0000,348501.0000,310537.0000)\n",
      "StockWeight(2007-12-31 00:00:00, 0.0000, 0.0000,0.0000,0.0000,0.0000,229341.0000,175682.0000)\n",
      "StockWeight(2009-06-30 00:00:00, 0.0000, 0.0000,0.0000,0.0000,0.0000,310543.0000,292376.0000)\n",
      "StockWeight(2011-08-05 00:00:00, 0.0000, 0.0000,0.0000,0.0000,0.0000,512335.0000,310536.0000)\n",
      "StockWeight(2011-12-31 00:00:00, 0.0000, 0.0000,0.0000,0.0000,0.0000,512335.0000,310536.0000)\n",
      "StockWeight(2012-10-19 00:00:00, 0.0000, 0.0000,0.0000,1.0000,0.0000,512335.0000,310536.0000)\n",
      "StockWeight(2012-12-31 00:00:00, 0.0000, 0.0000,0.0000,0.0000,0.0000,512335.0000,310536.0000)\n",
      "StockWeight(2013-06-20 00:00:00, 6.0000, 0.0000,0.0000,1.7000,0.0000,819736.0000,496857.0000)\n",
      "StockWeight(2013-11-12 00:00:00, 0.0000, 0.0000,0.0000,0.0000,0.0000,819736.0000,557590.0000)\n",
      "StockWeight(2014-01-09 00:00:00, 0.0000, 0.0000,0.0000,0.0000,0.0000,952075.0000,557590.0000)\n",
      "StockWeight(2014-06-12 00:00:00, 0.0000, 0.0000,0.0000,1.6000,2.0000,1142489.0000,669106.0000)\n",
      "StockWeight(2014-09-01 00:00:00, 0.0000, 0.0000,0.0000,0.0000,0.0000,1142489.0000,983671.0000)\n",
      "StockWeight(2015-04-13 00:00:00, 0.0000, 0.0000,0.0000,1.7400,2.0000,1370987.0000,1180405.0000)\n",
      "StockWeight(2015-05-21 00:00:00, 0.0000, 0.0000,0.0000,0.0000,0.0000,1430868.0000,1180405.0000)\n",
      "StockWeight(2016-05-23 00:00:00, 0.0000, 0.0000,0.0000,0.0000,0.0000,1430868.0000,1219265.0000)\n",
      "StockWeight(2016-06-16 00:00:00, 0.0000, 0.0000,0.0000,1.5300,2.0000,1717041.0000,1463118.0000)\n",
      "StockWeight(2017-01-09 00:00:00, 0.0000, 0.0000,0.0000,0.0000,0.0000,1717041.0000,1691799.0000)\n",
      "StockWeight(2017-07-21 00:00:00, 0.0000, 0.0000,0.0000,1.5800,0.0000,1717041.0000,1691799.0000)\n",
      "StockWeight(2017-12-31 00:00:00, 0.0000, 0.0000,0.0000,0.0000,0.0000,1717041.0000,1691798.0000)\n",
      "StockWeight(2018-05-21 00:00:00, 0.0000, 0.0000,0.0000,0.0000,0.0000,1717041.0000,1717025.0000)\n",
      "StockWeight(2018-07-12 00:00:00, 0.0000, 0.0000,0.0000,1.3600,0.0000,1717041.0000,1717025.0000)\n"
     ]
    }
   ],
   "source": [
    "ws = sm['sz000001'].getWeight()\n",
    "for w in ws:\n",
    "    print(w)"
   ]
  },
  {
   "cell_type": "code",
   "execution_count": null,
   "metadata": {},
   "outputs": [],
   "source": []
  }
 ],
 "metadata": {
  "kernelspec": {
   "display_name": "Python 3",
   "language": "python",
   "name": "python3"
  },
  "language_info": {
   "codemirror_mode": {
    "name": "ipython",
    "version": 3
   },
   "file_extension": ".py",
   "mimetype": "text/x-python",
   "name": "python",
   "nbconvert_exporter": "python",
   "pygments_lexer": "ipython3",
   "version": "3.7.1"
  }
 },
 "nbformat": 4,
 "nbformat_minor": 1
}
